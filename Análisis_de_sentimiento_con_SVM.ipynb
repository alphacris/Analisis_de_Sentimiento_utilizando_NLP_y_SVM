{
  "nbformat": 4,
  "nbformat_minor": 0,
  "metadata": {
    "colab": {
      "name": "Análisis_de_sentimiento_con_SVM.ipynb",
      "provenance": [],
      "collapsed_sections": []
    },
    "kernelspec": {
      "name": "python3",
      "display_name": "Python 3"
    },
    "language_info": {
      "name": "python"
    }
  },
  "cells": [
    {
      "cell_type": "code",
      "metadata": {
        "colab": {
          "base_uri": "https://localhost:8080/"
        },
        "id": "PJ95Q0PXzBT5",
        "outputId": "0c7103b2-8823-41b6-ab21-17effd146c7d"
      },
      "source": [
        "import pandas as pd\n",
        "import numpy as np\n",
        "import nltk\n",
        "nltk.download('punkt')\n",
        "nltk.download('wordnet')\n",
        "nltk.download('averaged_perceptron_tagger')\n",
        "nltk.download('stopwords')\n",
        "from nltk.tokenize import word_tokenize\n",
        "from nltk import pos_tag\n",
        "from nltk.corpus import stopwords\n",
        "from nltk.stem import WordNetLemmatizer\n",
        "from sklearn.preprocessing import LabelEncoder\n",
        "from collections import defaultdict\n",
        "from nltk.corpus import wordnet as wn\n",
        "from sklearn.feature_extraction.text import TfidfVectorizer\n",
        "from sklearn import model_selection, svm\n",
        "from sklearn.metrics import accuracy_score\n",
        "import matplotlib.pyplot as plt\n",
        "import seaborn as sns\n",
        "from sklearn import metrics\n",
        "\n",
        "np.random.seed(500)"
      ],
      "execution_count": null,
      "outputs": [
        {
          "output_type": "stream",
          "text": [
            "[nltk_data] Downloading package punkt to /root/nltk_data...\n",
            "[nltk_data]   Package punkt is already up-to-date!\n",
            "[nltk_data] Downloading package wordnet to /root/nltk_data...\n",
            "[nltk_data]   Package wordnet is already up-to-date!\n",
            "[nltk_data] Downloading package averaged_perceptron_tagger to\n",
            "[nltk_data]     /root/nltk_data...\n",
            "[nltk_data]   Package averaged_perceptron_tagger is already up-to-\n",
            "[nltk_data]       date!\n",
            "[nltk_data] Downloading package stopwords to /root/nltk_data...\n",
            "[nltk_data]   Package stopwords is already up-to-date!\n"
          ],
          "name": "stdout"
        }
      ]
    },
    {
      "cell_type": "code",
      "metadata": {
        "id": "BOhrK9mEzYK6"
      },
      "source": [
        "def NLP(path):\n",
        "  #Leemos los datos a preprocesar\n",
        "  Corpus = pd.read_csv(path,encoding='latin-1')\n",
        "  #cambia el nombre de las columnas si estan intercambiadas \n",
        "  if Corpus.columns is not ['text','label']:\n",
        "    Corpus.columns = ['text','label']\n",
        "\n",
        "  # Paso - 1: Preprocesamiento de datos: esto ayudará a obtener mejores resultados a través de los algoritmos de clasificación.\n",
        "  # Paso - 1a: Elimine las filas en blanco si las hay.\n",
        "  Corpus['text'].dropna(inplace=True)\n",
        "\n",
        "  # Paso - 1b: Cambia todo el texto a minúsculas. Esto es necesario ya que Python interpreta 'perro' y 'PERRO' de manera diferente\n",
        "  Corpus['text'] = [entry.lower() for entry in Corpus['text']]\n",
        "\n",
        "  # Paso - 1c: Tokenización: en este, cada entrada del corpus se dividirá en un conjunto de palabras \n",
        "  Corpus['text']= [word_tokenize(entry) for entry in Corpus['text']]\n",
        "\n",
        "  # Paso - 1d: Elimine palabras vacías, no numéricas y ejecute palabras derivadas / lemmentadas.\n",
        "  \n",
        "  # WordNetLemmatizer requiere etiquetas Pos para comprender si la palabra es sustantivo, verbo o adjetivo, etc. \n",
        "  #De forma predeterminada, se establece en Noun\n",
        "  tag_map = defaultdict(lambda : wn.NOUN)\n",
        "  tag_map['J'] = wn.ADJ\n",
        "  tag_map['V'] = wn.VERB\n",
        "  tag_map['R'] = wn.ADV\n",
        "  \n",
        "  for index,entry in enumerate(Corpus['text']):\n",
        "    # Declarar lista vacía para almacenar las palabras que siguen las reglas de este paso\n",
        "    Final_words = []\n",
        "    # Inicializando WordNetLemmatizer ()\n",
        "    word_Lemmatized = WordNetLemmatizer()\n",
        "    #La función pos_tag a continuación proporcionará la 'etiqueta', es decir, si la palabra es Sustantivo (N) o Verbo (V) o algo más.\n",
        "    for word, tag in pos_tag(entry):\n",
        "        # La siguiente condición es verificar las palabras vacías y considerar solo los alfabetos\n",
        "        if word not in stopwords.words('english') and word.isalpha():\n",
        "            word_Final = word_Lemmatized.lemmatize(word,tag_map[tag[0]])\n",
        "            Final_words.append(word_Final)\n",
        "    # El conjunto final de palabras procesadas para cada iteración se almacenará en 'text_final'\n",
        "    Corpus.loc[index,'text_final'] = str(Final_words)\n",
        "\n",
        "  return [Corpus['text_final'],Corpus['label']]  "
      ],
      "execution_count": null,
      "outputs": []
    },
    {
      "cell_type": "code",
      "metadata": {
        "id": "Ti8ZpRBO1Rmz"
      },
      "source": [
        "def TF_IDF(X,Y):\n",
        "  # Paso - 2: Divida el modelo en un conjunto de datos de prueba y entrenamiento\n",
        "  Train_X, Test_X, Train_Y, Test_Y = model_selection.train_test_split(X,Y,test_size=0.3)\n",
        "  \n",
        "  # Paso - 3: Etiqueta codificar la variable de destino :\n",
        "  #Esto se hace para transformar los datos categóricos del tipo de cadena en el conjunto de datos en valores numéricos\n",
        "  # 0:=positivo, 1:=negativo\n",
        "  Encoder = LabelEncoder()\n",
        "  Train_Y = Encoder.fit_transform(Train_Y)\n",
        "  Test_Y = Encoder.fit_transform(Test_Y)\n",
        "  \n",
        "  # Paso - 4: Vectorizar las palabras usando TF-IDF Vectorizer \n",
        "  #Esto se hace para encontrar qué tan importante es una palabra en el documento del corpus\n",
        "  Tfidf_vect = TfidfVectorizer(max_features=5000)\n",
        "  Tfidf_vect.fit(X)\n",
        "  \n",
        "  Train_X_Tfidf = Tfidf_vect.transform(Train_X)\n",
        "  Test_X_Tfidf = Tfidf_vect.transform(Test_X)\n",
        "\n",
        "  return [Train_X_Tfidf,Test_X_Tfidf,Train_Y,Test_Y]"
      ],
      "execution_count": null,
      "outputs": []
    },
    {
      "cell_type": "code",
      "metadata": {
        "id": "-SXf6f_L1UUz"
      },
      "source": [
        "def SVM(SVM_TRAIN_X,SVM_TEST_X,SVM_TRAIN_Y,SVM_TEST_Y):\n",
        "  \n",
        "  # Clasificador - Algoritmo - SVM\n",
        "  # Ajustar el conjunto de datos de entrenamiento en el clasificador\n",
        "  SVM = svm.SVC(C=1.0, kernel='linear', degree=3, gamma='auto')\n",
        "  SVM.fit(SVM_TRAIN_X,SVM_TRAIN_Y)\n",
        "  \n",
        "  # predecir las etiquetas en el conjunto de datos de validación\n",
        "  predictions_SVM = SVM.predict(SVM_TEST_X)\n",
        "  \n",
        "  # Utilice la función precision_score para obtener la precisión\n",
        "  return predictions_SVM"
      ],
      "execution_count": null,
      "outputs": []
    },
    {
      "cell_type": "code",
      "metadata": {
        "id": "8H7H123N8CwT"
      },
      "source": [
        "def AC_MC(SVM_TEST_Y,PRED):\n",
        "  cm = metrics.confusion_matrix(SVM_TEST_Y, PRED)\n",
        "  plt.figure(figsize=(5,5))\n",
        "  sns.heatmap(cm, annot=True, fmt=\".3f\", linewidths=.5, square = True)\n",
        "  plt.ylabel('Actual label')\n",
        "  plt.xlabel('Predicted label')\n",
        "  print(\"Confusion matrix:\")\n",
        "  all_sample_title = 'Accuracy Score: {0}%'.format(np.round(accuracy_score(PRED, SVM_TEST_Y)*100,2))\n",
        "  plt.title(all_sample_title, size = 12)"
      ],
      "execution_count": null,
      "outputs": []
    },
    {
      "cell_type": "code",
      "metadata": {
        "id": "B53dOxJM-sAt"
      },
      "source": [
        "def pred_vs_real(path,prediction,N):\n",
        "  Corpus = pd.read_csv(path,encoding='latin-1')\n",
        "  Encoder = LabelEncoder()\n",
        "  label = Encoder.fit_transform(Corpus.label)\n",
        "  for i in range(N):\n",
        "    print('El sentimiento predicho es: ',prediction[i],'el sentimiento real es: ',label[i] ,'la opinion real es: ',Corpus.text[i])"
      ],
      "execution_count": null,
      "outputs": []
    },
    {
      "cell_type": "code",
      "metadata": {
        "id": "4iscw8v--XE3"
      },
      "source": [
        "X,Y=NLP(path=\"/content/drive/MyDrive/PRACTICA II/SEMANA 3/corpus.csv\")"
      ],
      "execution_count": null,
      "outputs": []
    },
    {
      "cell_type": "code",
      "metadata": {
        "id": "hHNXFqAx-W5S"
      },
      "source": [
        "SVM_TRAIN_X,SVM_TEST_X,SVM_TRAIN_Y,SVM_TEST_Y = TF_IDF(X=X,Y=Y)"
      ],
      "execution_count": null,
      "outputs": []
    },
    {
      "cell_type": "code",
      "metadata": {
        "id": "OvPhKUxr-Ws4"
      },
      "source": [
        "pred = SVM(SVM_TRAIN_X=SVM_TRAIN_X,SVM_TEST_X= SVM_TEST_X,SVM_TRAIN_Y= SVM_TRAIN_Y,SVM_TEST_Y= SVM_TEST_Y)"
      ],
      "execution_count": null,
      "outputs": []
    },
    {
      "cell_type": "code",
      "metadata": {
        "colab": {
          "base_uri": "https://localhost:8080/",
          "height": 326
        },
        "id": "h8pEvAgG83CR",
        "outputId": "4565688b-0069-41d1-d5f3-47c76c445a4e"
      },
      "source": [
        "AC_MC(SVM_TEST_Y=SVM_TEST_Y,PRED=pred)"
      ],
      "execution_count": null,
      "outputs": [
        {
          "output_type": "stream",
          "text": [
            "Confusion matrix:\n"
          ],
          "name": "stdout"
        },
        {
          "output_type": "display_data",
          "data": {
            "image/png": "[encoded data removed]",
            "text/plain": [
              "<Figure size 360x360 with 2 Axes>"
            ]
          },
          "metadata": {
            "needs_background": "light"
          }
        }
      ]
    },
    {
      "cell_type": "code",
      "metadata": {
        "colab": {
          "base_uri": "https://localhost:8080/"
        },
        "id": "lQElBuTi_wSL",
        "outputId": "6218da2a-b254-4a96-a26e-5ae79f82e536"
      },
      "source": [
        "pred_vs_real(path=\"/content/drive/MyDrive/PRACTICA II/SEMANA 3/corpus.csv\",prediction=pred,N=9)"
      ],
      "execution_count": null,
      "outputs": [
        {
          "output_type": "stream",
          "text": [
            "El sentimiento predicho es:  0 el sentimiento real es:  1 la opinion real es:   Stuning even for the non-gamer: This sound track was beautiful! It paints the senery in your mind so well I would recomend it even to people who hate video game music! I have played the game Chrono Cross but out of all of the games I have ever played it has the best music! It backs away from crude keyboarding and takes a fresher step with grate guitars and soulful orchestras. It would impress anyone who cares to listen! ^_^\n",
            "El sentimiento predicho es:  0 el sentimiento real es:  1 la opinion real es:   The best soundtrack ever to anything.: I'm reading a lot of reviews saying that this is the best 'game soundtrack' and I figured that I'd write a review to disagree a bit. This in my opinino is Yasunori Mitsuda's ultimate masterpiece. The music is timeless and I'm been listening to it for years now and its beauty simply refuses to fade.The price tag on this is pretty staggering I must say, but if you are going to buy any cd for this much money, this is the only one that I feel would be worth every penny.\n",
            "El sentimiento predicho es:  1 el sentimiento real es:  1 la opinion real es:   Amazing!: This soundtrack is my favorite music of all time, hands down. The intense sadness of \"Prisoners of Fate\" (which means all the more if you've played the game) and the hope in \"A Distant Promise\" and \"Girl who Stole the Star\" have been an important inspiration to me personally throughout my teen years. The higher energy tracks like \"Chrono Cross ~ Time's Scar~\", \"Time of the Dreamwatch\", and \"Chronomantique\" (indefinably remeniscent of Chrono Trigger) are all absolutely superb as well.This soundtrack is amazing music, probably the best of this composer's work (I haven't heard the Xenogears soundtrack, so I can't say for sure), and even if you've never played the game, it would be worth twice the price to buy it.I wish I could give it 6 stars.\n",
            "El sentimiento predicho es:  1 el sentimiento real es:  1 la opinion real es:   Excellent Soundtrack: I truly like this soundtrack and I enjoy video game music. I have played this game and most of the music on here I enjoy and it's truly relaxing and peaceful.On disk one. my favorites are Scars Of Time, Between Life and Death, Forest Of Illusion, Fortress of Ancient Dragons, Lost Fragment, and Drowned Valley.Disk Two: The Draggons, Galdorb - Home, Chronomantique, Prisoners of Fate, Gale, and my girlfriend likes ZelbessDisk Three: The best of the three. Garden Of God, Chronopolis, Fates, Jellyfish sea, Burning Orphange, Dragon's Prayer, Tower Of Stars, Dragon God, and Radical Dreamers - Unstealable Jewel.Overall, this is a excellent soundtrack and should be brought by those that like video game music.Xander Cross\n",
            "El sentimiento predicho es:  1 el sentimiento real es:  1 la opinion real es:   Remember, Pull Your Jaw Off The Floor After Hearing it: If you've played the game, you know how divine the music is! Every single song tells a story of the game, it's that good! The greatest songs are without a doubt, Chrono Cross: Time's Scar, Magical Dreamers: The Wind, The Stars, and the Sea and Radical Dreamers: Unstolen Jewel. (Translation varies) This music is perfect if you ask me, the best it can be. Yasunori Mitsuda just poured his heart on and wrote it down on paper.\n",
            "El sentimiento predicho es:  0 el sentimiento real es:  1 la opinion real es:   an absolute masterpiece: I am quite sure any of you actually taking the time to read this have played the game at least once, and heard at least a few of the tracks here. And whether you were aware of it or not, Mitsuda's music contributed greatly to the mood of every single minute of the whole game.Composed of 3 CDs and quite a few songs (I haven't an exact count), all of which are heart-rendering and impressively remarkable, this soundtrack is one I assure you you will not forget. It has everything for every listener -- from fast-paced and energetic (Dancing the Tokage or Termina Home), to slower and more haunting (Dragon God), to purely beautifully composed (Time's Scar), to even some fantastic vocals (Radical Dreamers).This is one of the best videogame soundtracks out there, and surely Mitsuda's best ever. ^_^\n",
            "El sentimiento predicho es:  0 el sentimiento real es:  0 la opinion real es:   Buyer beware: This is a self-published book, and if you want to know why--read a few paragraphs! Those 5 star reviews must have been written by Ms. Haddon's family and friends--or perhaps, by herself! I can't imagine anyone reading the whole thing--I spent an evening with the book and a friend and we were in hysterics reading bits and pieces of it to one another. It is most definitely bad enough to be entered into some kind of a \"worst book\" contest. I can't believe Amazon even sells this kind of thing. Maybe I can offer them my 8th grade term paper on \"To Kill a Mockingbird\"--a book I am quite sure Ms. Haddon never heard of. Anyway, unless you are in a mood to send a book to someone as a joke---stay far, far away from this one!\n",
            "El sentimiento predicho es:  0 el sentimiento real es:  1 la opinion real es:   Glorious story: I loved Whisper of the wicked saints. The story was amazing and I was pleasantly surprised at the changes in the book. I am not normaly someone who is into romance novels, but the world was raving about this book and so I bought it. I loved it !! This is a brilliant story because it is so true. This book was so wonderful that I have told all of my friends to read it. It is not a typical romance, it is so much more. Not reading this book is a crime, becuase you are missing out on a heart warming story.\n",
            "El sentimiento predicho es:  1 el sentimiento real es:  1 la opinion real es:   A FIVE STAR BOOK: I just finished reading Whisper of the Wicked saints. I fell in love with the caracters. I expected an average romance read, but instead I found one of my favorite books of all time. Just when I thought I could predict the outcome I was shocked ! The writting was so descriptive that my heart broke when Julia's did and I felt as if I was there with them instead of just a distant reader. If you are a lover of romance novels then this is a must read. Don't let the cover fool you this book is spectacular!\n"
          ],
          "name": "stdout"
        }
      ]
    },
    {
      "cell_type": "code",
      "metadata": {
        "id": "YeHYXmdud975"
      },
      "source": [
        ""
      ],
      "execution_count": null,
      "outputs": []
    },
    {
      "cell_type": "code",
      "metadata": {
        "id": "8lNJW2KPd91U"
      },
      "source": [
        ""
      ],
      "execution_count": null,
      "outputs": []
    },
    {
      "cell_type": "code",
      "metadata": {
        "id": "_mrozwZQd9uC"
      },
      "source": [
        ""
      ],
      "execution_count": null,
      "outputs": []
    },
    {
      "cell_type": "code",
      "metadata": {
        "id": "ZRvT83Y8d9n_"
      },
      "source": [
        ""
      ],
      "execution_count": null,
      "outputs": []
    },
    {
      "cell_type": "markdown",
      "metadata": {
        "id": "obNr3oQTIX0K"
      },
      "source": [
        "**Otro DataFreame**"
      ]
    },
    {
      "cell_type": "code",
      "metadata": {
        "colab": {
          "base_uri": "https://localhost:8080/",
          "height": 419
        },
        "id": "2fInLHr1Eqpf",
        "outputId": "57e9b816-f9f0-458b-a236-ca095137b1dc"
      },
      "source": [
        "df = pd.read_csv('/content/drive/MyDrive/movies_reviews.csv')\n",
        "df.columns = ['text','label']\n",
        "df.to_csv('reviews.csv')\n",
        "df"
      ],
      "execution_count": null,
      "outputs": [
        {
          "output_type": "execute_result",
          "data": {
            "text/html": [
              "<div>\n",
              "<style scoped>\n",
              "    .dataframe tbody tr th:only-of-type {\n",
              "        vertical-align: middle;\n",
              "    }\n",
              "\n",
              "    .dataframe tbody tr th {\n",
              "        vertical-align: top;\n",
              "    }\n",
              "\n",
              "    .dataframe thead th {\n",
              "        text-align: right;\n",
              "    }\n",
              "</style>\n",
              "<table border=\"1\" class=\"dataframe\">\n",
              "  <thead>\n",
              "    <tr style=\"text-align: right;\">\n",
              "      <th></th>\n",
              "      <th>text</th>\n",
              "      <th>label</th>\n",
              "    </tr>\n",
              "  </thead>\n",
              "  <tbody>\n",
              "    <tr>\n",
              "      <th>0</th>\n",
              "      <td>In 1974, the teenager Martha Moxley (Maggie Gr...</td>\n",
              "      <td>1</td>\n",
              "    </tr>\n",
              "    <tr>\n",
              "      <th>1</th>\n",
              "      <td>OK... so... I really like Kris Kristofferson a...</td>\n",
              "      <td>0</td>\n",
              "    </tr>\n",
              "    <tr>\n",
              "      <th>2</th>\n",
              "      <td>***SPOILER*** Do not read this, if you think a...</td>\n",
              "      <td>0</td>\n",
              "    </tr>\n",
              "    <tr>\n",
              "      <th>3</th>\n",
              "      <td>hi for all the people who have seen this wonde...</td>\n",
              "      <td>1</td>\n",
              "    </tr>\n",
              "    <tr>\n",
              "      <th>4</th>\n",
              "      <td>I recently bought the DVD, forgetting just how...</td>\n",
              "      <td>0</td>\n",
              "    </tr>\n",
              "    <tr>\n",
              "      <th>...</th>\n",
              "      <td>...</td>\n",
              "      <td>...</td>\n",
              "    </tr>\n",
              "    <tr>\n",
              "      <th>49995</th>\n",
              "      <td>OK, lets start with the best. the building. al...</td>\n",
              "      <td>0</td>\n",
              "    </tr>\n",
              "    <tr>\n",
              "      <th>49996</th>\n",
              "      <td>The British 'heritage film' industry is out of...</td>\n",
              "      <td>0</td>\n",
              "    </tr>\n",
              "    <tr>\n",
              "      <th>49997</th>\n",
              "      <td>I don't even know where to begin on this one. ...</td>\n",
              "      <td>0</td>\n",
              "    </tr>\n",
              "    <tr>\n",
              "      <th>49998</th>\n",
              "      <td>Richard Tyler is a little boy who is scared of...</td>\n",
              "      <td>0</td>\n",
              "    </tr>\n",
              "    <tr>\n",
              "      <th>49999</th>\n",
              "      <td>I waited long to watch this movie. Also becaus...</td>\n",
              "      <td>1</td>\n",
              "    </tr>\n",
              "  </tbody>\n",
              "</table>\n",
              "<p>50000 rows × 2 columns</p>\n",
              "</div>"
            ],
            "text/plain": [
              "                                                    text  label\n",
              "0      In 1974, the teenager Martha Moxley (Maggie Gr...      1\n",
              "1      OK... so... I really like Kris Kristofferson a...      0\n",
              "2      ***SPOILER*** Do not read this, if you think a...      0\n",
              "3      hi for all the people who have seen this wonde...      1\n",
              "4      I recently bought the DVD, forgetting just how...      0\n",
              "...                                                  ...    ...\n",
              "49995  OK, lets start with the best. the building. al...      0\n",
              "49996  The British 'heritage film' industry is out of...      0\n",
              "49997  I don't even know where to begin on this one. ...      0\n",
              "49998  Richard Tyler is a little boy who is scared of...      0\n",
              "49999  I waited long to watch this movie. Also becaus...      1\n",
              "\n",
              "[50000 rows x 2 columns]"
            ]
          },
          "metadata": {},
          "execution_count": 12
        }
      ]
    },
    {
      "cell_type": "code",
      "metadata": {
        "id": "M4aTZeFUF9lq"
      },
      "source": [
        "df.to_csv('reviews.csv')"
      ],
      "execution_count": null,
      "outputs": []
    },
    {
      "cell_type": "code",
      "metadata": {
        "id": "uiGCQr2mGJYr"
      },
      "source": [
        "X,Y=NLP(path=\"/content/reviews.csv\")"
      ],
      "execution_count": null,
      "outputs": []
    },
    {
      "cell_type": "code",
      "metadata": {
        "colab": {
          "base_uri": "https://localhost:8080/",
          "height": 326
        },
        "id": "7ZwUJCeEGYwM",
        "outputId": "011e01cd-cfa2-4bec-d7e7-78fdd185eaa3"
      },
      "source": [
        "SVM_TRAIN_X,SVM_TEST_X,SVM_TRAIN_Y,SVM_TEST_Y = TF_IDF(X=X,Y=Y)\n",
        "pred = SVM(SVM_TRAIN_X=SVM_TRAIN_X,SVM_TEST_X= SVM_TEST_X,SVM_TRAIN_Y= SVM_TRAIN_Y,SVM_TEST_Y= SVM_TEST_Y)\n",
        "AC_MC(SVM_TEST_Y=SVM_TEST_Y,PRED=pred)"
      ],
      "execution_count": null,
      "outputs": [
        {
          "output_type": "stream",
          "text": [
            "Confusion matrix:\n"
          ],
          "name": "stdout"
        },
        {
          "output_type": "display_data",
          "data": {
            "image/png": "[encoded data removed]",
            "text/plain": [
              "<Figure size 360x360 with 2 Axes>"
            ]
          },
          "metadata": {
            "needs_background": "light"
          }
        }
      ]
    },
    {
      "cell_type": "code",
      "metadata": {
        "colab": {
          "base_uri": "https://localhost:8080/"
        },
        "id": "0-7aci_8GqgO",
        "outputId": "d4c2a26e-51e4-47a5-e560-28854c6ca20a"
      },
      "source": [
        "pred_vs_real(path=\"/content/reviews.csv\",prediction=pred,N=9)"
      ],
      "execution_count": null,
      "outputs": [
        {
          "output_type": "stream",
          "text": [
            "El sentimiento predicho es:  0 el sentimiento real es:  1 la opinion real es:  In 1974, the teenager Martha Moxley (Maggie Grace) moves to the high-class area of Belle Haven, Greenwich, Connecticut. On the Mischief Night, eve of Halloween, she was murdered in the backyard of her house and her murder remained unsolved. Twenty-two years later, the writer Mark Fuhrman (Christopher Meloni), who is a former LA detective that has fallen in disgrace for perjury in O.J. Simpson trial and moved to Idaho, decides to investigate the case with his partner Stephen Weeks (Andrew Mitchell) with the purpose of writing a book. The locals squirm and do not welcome them, but with the support of the retired detective Steve Carroll (Robert Forster) that was in charge of the investigation in the 70's, they discover the criminal and a net of power and money to cover the murder.<br /><br />\"Murder in Greenwich\" is a good TV movie, with the true story of a murder of a fifteen years old girl that was committed by a wealthy teenager whose mother was a Kennedy. The powerful and rich family used their influence to cover the murder for more than twenty years. However, a snoopy detective and convicted perjurer in disgrace was able to disclose how the hideous crime was committed. The screenplay shows the investigation of Mark and the last days of Martha in parallel, but there is a lack of the emotion in the dramatization. My vote is seven.<br /><br />Title (Brazil): Not Available\n",
            "El sentimiento predicho es:  0 el sentimiento real es:  0 la opinion real es:  OK... so... I really like Kris Kristofferson and his usual easy going delivery of lines in his movies. Age has helped him with his soft spoken low energy style and he will steal a scene effortlessly. But, Disappearance is his misstep. Holy Moly, this was a bad movie! <br /><br />I must give kudos to the cinematography and and the actors, including Kris, for trying their darndest to make sense from this goofy, confusing story! None of it made sense and Kris probably didn't understand it either and he was just going through the motions hoping someone would come up to him and tell him what it was all about! <br /><br />I don't care that everyone on this movie was doing out of love for the project, or some such nonsense... I've seen low budget movies that had a plot for goodness sake! This had none, zilcho, nada, zippo, empty of reason... a complete waste of good talent, scenery and celluloid! <br /><br />I rented this piece of garbage for a buck, and I want my money back! I want my 2 hours back I invested on this Grade F waste of my time! Don't watch this movie, or waste 1 minute of your valuable time while passing through a room where it's playing or even open up the case that is holding the DVD! Believe me, you'll thank me for the advice!\n",
            "El sentimiento predicho es:  0 el sentimiento real es:  0 la opinion real es:  ***SPOILER*** Do not read this, if you think about watching that movie, although it would be a waste of time. (By the way: The plot is so predictable that it does not make any difference if you read this or not anyway)<br /><br />If you are wondering whether to see \"Coyote Ugly\" or not: don't! It's not worth either the money for the ticket or the VHS / DVD. A typical \"Chick-Feel-Good-Flick\", one could say. The plot itself is as shallow as it can be, a ridiculous and uncritical version of the American Dream. The young good-looking girl from a small town becoming a big success in New York. The few desperate attempts of giving the movie any depth fail, such as the \"tragic\" accident of the father, the \"difficulties\" of Violet's relationship with her boyfriend, and so on. McNally (Director) tries to arouse the audience's pity and sadness put does not have any chance to succeed in this attempt due to the bad script and the shallow acting. Especially Piper Perabo completely fails in convincing one of \"Jersey's\" fear of singing in front of an audience. The only good (and quite funny thing) about \"Coyote Ugly\" is John Goodman, who represents the small ray of hope of this movie.<br /><br />I was very astonished, that Jerry Bruckheimer produced this movie. First \"Gone In 60 Seconds\" and now this... what happened to great movies like \"The Rock\" and \"Con Air\"? THAT was true Bruckheimer stuff.<br /><br />If you are looking for a superficial movie with good looking women just to have a relaxed evening, you should better go and see \"Charlie's Angels\" (it's much more funny, entertaining and self-ironic) instead of this flick.<br /><br />Two thumbs down (3 out of 10).\n",
            "El sentimiento predicho es:  1 el sentimiento real es:  1 la opinion real es:  hi for all the people who have seen this wonderful movie im sure thet you would have liked it as much as i. i love the songs once you have seen the show you can sing along as though you are part of the show singing and dancing . dancing and singing. the song ONE is an all time fave musical song too and the strutters at the end with the mirror its so oh you have to watch this one\n",
            "El sentimiento predicho es:  1 el sentimiento real es:  0 la opinion real es:  I recently bought the DVD, forgetting just how much I hated the movie version of \"A Chorus Line.\" Every change the director Attenborough made to the story failed.<br /><br />By making the Director-Cassie relationship so prominent, the entire ensemble-premise of the musical sails out the window.<br /><br />Some of the musical numbers are sped up and rushed. The show's hit song gets the entire meaning shattered when it is given to Cassie's character.<br /><br />The overall staging is very self-conscious.<br /><br />The only reason I give it a 2, is because a few of the great numbers are still able to be enjoyed despite the film's attempt to squeeze every bit of joy and spontaneity out of it.\n",
            "El sentimiento predicho es:  1 el sentimiento real es:  1 la opinion real es:  Leave it to Braik to put on a good show. Finally he and Zorak are living their own lives outside of Spac Ghost Coast To Coast. I have to say that I love both of these shows a whole lot. They are completely what started Adult Swim. Brak made it big with an album that came out in the year 2000. It may not have been platinum, but his show was really popular to tons of people out there that love Adult Swims shows. I have to say that out of all the Adult Swim shows with no plot, this has to be the one with the most none plot ever made. That is why I like it so much, it is just such a classic in the Adult Swim history. I believe this is just such a great show, if you don't like it. Hey there were tons who hated it and tons who loved it.\n",
            "El sentimiento predicho es:  1 el sentimiento real es:  1 la opinion real es:  Nathan Detroit (Frank Sinatra) is the manager of the New York's longest- established floating craps game, and he needs $1000 to secure a new location. Confident of his odds, he bets the city's highest-roller, Sky Masterson (Marlon Brando), that he can't woo uptight missionary Sarah Brown (Jean Simmons). 'Guys and Dolls (1955)' is such a great musical because it deftly blends the contrasting styles of film and stage. During a dazzling opening sequence, crowds of pedestrians move in rhythm, stopping and starting as though responding to backstage cues. Even the walking movements themselves are stylised and angular, halfway between a walk and a dance. Mankiewicz's New York City is a glittering flurry of art deco colour and movement, a fantasy world so completely removed from reality that even the business of underground gambling and criminal thuggery seems perfectly genial. <br /><br />As I write this review, I've just received word that Jean Simmons has passed away, age 80. This, unbelievably, was the first time I'd seen her in a film, yet she dazzled me from the beginning. Her idealistic and sexually-repressed Sarah comes out of her shell following an alcohol binge in Havana, letting loose with an adorably playful rendition of \"If I Were A Bell.\" Even though both Simmons and Brando were non-singers, producer Sam Goldwyn decided not to dub their vocals, contending that \"maybe you don't sound so good, but at least it's you.\" Despite Goldwyn's backhanded confidence, the pair both do well to carry entire musical numbers themselves. Simmons suggests the same child-like liveliness that Audrey Hepburn might have brought to the role, and Brando exudes such self-assurance and charisma that it doesn't matter that his singing voice isn't quite there.\n",
            "El sentimiento predicho es:  0 el sentimiento real es:  1 la opinion real es:  To understand \"Crash Course\" in the right context, you must understand the 80's in TV. Most TV shows didn't have any point. The sitcom outpopulated the drama at least 3 to 1. They were still figuring out where the lines were so that they could cross them. (TV Shows like \"Hail to the Chief\" was quite the bold step!) This made-for-TV movie \"Crash Course\" featured an All-Star cast, bringing together members from all the 80's classics: \"227\", \"Family Ties\", \"Who's the Boss?\", et al. Directors must've had a certain penchant for those all-star movies then. Still, this movie offered very light fare and a simplistic view of heroism and maturity. And that's not bad sometimes. Viva Soleil Moon Frye.\n",
            "El sentimiento predicho es:  0 el sentimiento real es:  1 la opinion real es:  I've been impressed with Chavez's stance against globalisation for sometime now, but it wasn't until I saw the film at the Amsterdam documentary international film festival that I realize what he has really achieved. This film tells the story of coup/conspiracy by Venezuela's elite, the oil companies and oil loving corrupt western governments, to remove democratically elected president Chavez, and return Venezuela back to a brutal dictatorship. This film is must for anyone who believes in freedom and justice, and is also a lesson to the rest of world ! I commend the people of Venezuela for taking matter into their own hands, and saving their country from the likes of Halliburton and the Bush regime.\n"
          ],
          "name": "stdout"
        }
      ]
    },
    {
      "cell_type": "markdown",
      "metadata": {
        "id": "ZEjbiWuVx1Tk"
      },
      "source": [
        "# **PRUEBA PAQUETE Y POO**"
      ]
    },
    {
      "cell_type": "code",
      "metadata": {
        "id": "PWAzD1OCyp5j"
      },
      "source": [
        "Corpus = pd.read_csv(\"/content/drive/MyDrive/PRACTICA II/SEMANA 3/corpus.csv\",encoding='latin-1')"
      ],
      "execution_count": null,
      "outputs": []
    },
    {
      "cell_type": "code",
      "metadata": {
        "colab": {
          "base_uri": "https://localhost:8080/",
          "height": 204
        },
        "id": "g-H483QJNiQ5",
        "outputId": "9fbc65ff-762b-43de-9191-4d675878b4bc"
      },
      "source": [
        "Corpus.head()"
      ],
      "execution_count": null,
      "outputs": [
        {
          "output_type": "execute_result",
          "data": {
            "text/html": [
              "<div>\n",
              "<style scoped>\n",
              "    .dataframe tbody tr th:only-of-type {\n",
              "        vertical-align: middle;\n",
              "    }\n",
              "\n",
              "    .dataframe tbody tr th {\n",
              "        vertical-align: top;\n",
              "    }\n",
              "\n",
              "    .dataframe thead th {\n",
              "        text-align: right;\n",
              "    }\n",
              "</style>\n",
              "<table border=\"1\" class=\"dataframe\">\n",
              "  <thead>\n",
              "    <tr style=\"text-align: right;\">\n",
              "      <th></th>\n",
              "      <th>text</th>\n",
              "      <th>label</th>\n",
              "    </tr>\n",
              "  </thead>\n",
              "  <tbody>\n",
              "    <tr>\n",
              "      <th>0</th>\n",
              "      <td>Stuning even for the non-gamer: This sound tr...</td>\n",
              "      <td>__label__2</td>\n",
              "    </tr>\n",
              "    <tr>\n",
              "      <th>1</th>\n",
              "      <td>The best soundtrack ever to anything.: I'm re...</td>\n",
              "      <td>__label__2</td>\n",
              "    </tr>\n",
              "    <tr>\n",
              "      <th>2</th>\n",
              "      <td>Amazing!: This soundtrack is my favorite musi...</td>\n",
              "      <td>__label__2</td>\n",
              "    </tr>\n",
              "    <tr>\n",
              "      <th>3</th>\n",
              "      <td>Excellent Soundtrack: I truly like this sound...</td>\n",
              "      <td>__label__2</td>\n",
              "    </tr>\n",
              "    <tr>\n",
              "      <th>4</th>\n",
              "      <td>Remember, Pull Your Jaw Off The Floor After H...</td>\n",
              "      <td>__label__2</td>\n",
              "    </tr>\n",
              "  </tbody>\n",
              "</table>\n",
              "</div>"
            ],
            "text/plain": [
              "                                                text        label\n",
              "0   Stuning even for the non-gamer: This sound tr...  __label__2 \n",
              "1   The best soundtrack ever to anything.: I'm re...  __label__2 \n",
              "2   Amazing!: This soundtrack is my favorite musi...  __label__2 \n",
              "3   Excellent Soundtrack: I truly like this sound...  __label__2 \n",
              "4   Remember, Pull Your Jaw Off The Floor After H...  __label__2 "
            ]
          },
          "metadata": {},
          "execution_count": 5
        }
      ]
    },
    {
      "cell_type": "code",
      "metadata": {
        "id": "yQG9i-dYNsSo"
      },
      "source": [
        "class Preprocesamiento:\n",
        "  def __init__(self, path):\n",
        "        self.path = path\n",
        "        \n",
        "  def NLP(path):\n",
        "    Corpus = pd.read_csv(path,encoding='latin-1')\n",
        "    \n",
        "    if Corpus.columns is not ['text','label']:\n",
        "      Corpus.columns = ['text','label']\n",
        "      \n",
        "    # Paso - 1: Preprocesamiento de datos: esto ayudará a obtener mejores resultados a través de los algoritmos de clasificación.\n",
        "    # Paso - 1a: Elimine las filas en blanco si las hay.\n",
        "    Corpus['text'].dropna(inplace=True)\n",
        "    \n",
        "    # Paso - 1b: Cambia todo el texto a minúsculas. Esto es necesario ya que Python interpreta 'perro' y 'PERRO' de manera diferente\n",
        "    Corpus['text'] = [entry.lower() for entry in Corpus['text']]\n",
        "    \n",
        "    # Paso - 1c: Tokenización: en este, cada entrada del corpus se dividirá en un conjunto de palabras \n",
        "    Corpus['text']= [word_tokenize(entry) for entry in Corpus['text']]\n",
        "    \n",
        "    # Paso - 1d: Elimine palabras vacías, no numéricas y ejecute palabras derivadas / lemmentadas.\n",
        "    \n",
        "    # WordNetLemmatizer requiere etiquetas Pos para comprender si la palabra es sustantivo, verbo o adjetivo, etc.\n",
        "    \n",
        "    #De forma predeterminada, se establece en Noun\n",
        "    tag_map = defaultdict(lambda : wn.NOUN)\n",
        "    tag_map['J'] = wn.ADJ\n",
        "    tag_map['V'] = wn.VERB\n",
        "    tag_map['R'] = wn.ADV\n",
        "    \n",
        "    for index,entry in enumerate(Corpus['text']):\n",
        "      # Declarar lista vacía para almacenar las palabras que siguen las reglas de este paso\n",
        "      Final_words = []\n",
        "      # Inicializando WordNetLemmatizer ()\n",
        "      word_Lemmatized = WordNetLemmatizer()\n",
        "      #La función pos_tag a continuación proporcionará la 'etiqueta', es decir, si la palabra es Sustantivo (N) o Verbo (V) o algo más.\n",
        "      for word, tag in pos_tag(entry):\n",
        "        # La siguiente condición es verificar las palabras vacías y considerar solo los alfabetos\n",
        "        if word not in stopwords.words('english') and word.isalpha():\n",
        "          word_Final = word_Lemmatized.lemmatize(word,tag_map[tag[0]])\n",
        "          Final_words.append(word_Final)\n",
        "      # El conjunto final de palabras procesadas para cada iteración se almacenará en 'text_final'\n",
        "      Corpus.loc[index,'text_final'] = str(Final_words)\n",
        "    \n",
        "    # Paso - 2: Divida el modelo en un conjunto de datos de prueba y entrenamiento\n",
        "    Train_X, Test_X, Train_Y, Test_Y = model_selection.train_test_split(Corpus['text_final'],Corpus['label'],test_size=0.3)\n",
        "    \n",
        "    # Paso - 3: Etiqueta codificar la variable de destino :\n",
        "    #Esto se hace para transformar los datos categóricos del tipo de cadena en el conjunto de datos en valores numéricos\n",
        "    # 0:=positivo, 1:=negativo\n",
        "    Encoder = LabelEncoder()\n",
        "    Train_Y = Encoder.fit_transform(Train_Y)\n",
        "    Test_Y = Encoder.fit_transform(Test_Y)\n",
        "    \n",
        "    # Paso - 4: Vectorizar las palabras usando TF-IDF Vectorizer \n",
        "    #Esto se hace para encontrar qué tan importante es una palabra en el documento del corpus\n",
        "    Tfidf_vect = TfidfVectorizer(max_features=5000)\n",
        "    Tfidf_vect.fit(Corpus['text_final'])\n",
        "    \n",
        "    Train_X_Tfidf = Tfidf_vect.transform(Train_X)\n",
        "    Test_X_Tfidf = Tfidf_vect.transform(Test_X)\n",
        "    \n",
        "    return [Train_X_Tfidf,Test_X_Tfidf,Train_Y,Test_Y]  "
      ],
      "execution_count": null,
      "outputs": []
    },
    {
      "cell_type": "code",
      "metadata": {
        "id": "6ULvxbs3q8AS"
      },
      "source": [
        "class PREDICCION_METRICAS_VS:\n",
        "\n",
        "  def __init__(self, SVM_TRAIN_X,SVM_TEST_X,SVM_TRAIN_Y,SVM_TEST_Y,PRED,prediction,N):\n",
        "    self.SVM_TRAIN_X = SVM_TRAIN_X\n",
        "    self.SVM_TEST_X  = SVM_TEST_X\n",
        "    self.SVM_TRAIN_Y = SVM_TRAIN_Y\n",
        "    self.SVM_TEST_Y  = SVM_TEST_Y\n",
        "    self.PRED        = PRED\n",
        "    self.prediction   = prediction\n",
        "    self.N           = N\n",
        "\n",
        "  def SVM(SVM_TRAIN_X,SVM_TEST_X,SVM_TRAIN_Y,SVM_TEST_Y):\n",
        "    \n",
        "    # Clasificador - Algoritmo - SVM\n",
        "    # Ajustar el conjunto de datos de entrenamiento en el clasificador\n",
        "    SVM = svm.SVC(C=1.0, kernel='linear', degree=3, gamma='auto')\n",
        "    SVM.fit(SVM_TRAIN_X,SVM_TRAIN_Y)\n",
        "    \n",
        "    # predecir las etiquetas en el conjunto de datos de validación\n",
        "    predictions_SVM = SVM.predict(SVM_TEST_X)\n",
        "    \n",
        "    # Utilice la función precision_score para obtener la precisión\n",
        "    return predictions_SVM\n",
        "\n",
        "  def AC_MC(SVM_TEST_Y,PRED):\n",
        "    cm = metrics.confusion_matrix(SVM_TEST_Y, PRED)\n",
        "    plt.figure(figsize=(5,5))\n",
        "    sns.heatmap(cm, annot=True, fmt=\".3f\", linewidths=.5, square = True)\n",
        "    plt.ylabel('Actual label')\n",
        "    plt.xlabel('Predicted label')\n",
        "    print(\"Confusion matrix:\")\n",
        "    all_sample_title = 'Accuracy Score: {0}%'.format(np.round(accuracy_score(PRED, SVM_TEST_Y)*100,2))\n",
        "    plt.title(all_sample_title, size = 12)\n",
        "\n",
        "  \n",
        "  def pred_vs_real(path,prediction,N):\n",
        "    Corpus = pd.read_csv(path,encoding='latin-1')\n",
        "    Encoder = LabelEncoder()\n",
        "    label = Encoder.fit_transform(Corpus.label)\n",
        "    for i in range(N):\n",
        "      print('El sentimiento predicho es: ',prediction[i],'el sentimiento real es: ',label[i] ,'la opinion real es: ',Corpus.text[i])\n",
        "\n",
        "\n"
      ],
      "execution_count": null,
      "outputs": []
    },
    {
      "cell_type": "code",
      "metadata": {
        "id": "9mLrqo6CkpMN"
      },
      "source": [
        " SVM_TRAIN_X,SVM_TEST_X,SVM_TRAIN_Y,SVM_TEST_Y = Preprocesamiento.NLP(\"/content/drive/MyDrive/PRACTICA II/SEMANA 3/corpus.csv\")"
      ],
      "execution_count": null,
      "outputs": []
    },
    {
      "cell_type": "code",
      "metadata": {
        "colab": {
          "base_uri": "https://localhost:8080/",
          "height": 326
        },
        "id": "_u5LEFzJmppb",
        "outputId": "05165877-dcd2-40f9-ecd4-7b66c4a2ea61"
      },
      "source": [
        "pred = PREDICCION_METRICAS_VS.SVM(SVM_TRAIN_X=SVM_TRAIN_X,SVM_TEST_X= SVM_TEST_X,SVM_TRAIN_Y= SVM_TRAIN_Y,SVM_TEST_Y= SVM_TEST_Y)\n",
        "PREDICCION_METRICAS_VS.AC_MC(SVM_TEST_Y=SVM_TEST_Y,PRED=pred)"
      ],
      "execution_count": null,
      "outputs": [
        {
          "output_type": "stream",
          "text": [
            "Confusion matrix:\n"
          ],
          "name": "stdout"
        },
        {
          "output_type": "display_data",
          "data": {
            "image/png": "[encoded data removed]",
            "text/plain": [
              "<Figure size 360x360 with 2 Axes>"
            ]
          },
          "metadata": {
            "needs_background": "light"
          }
        }
      ]
    },
    {
      "cell_type": "code",
      "metadata": {
        "colab": {
          "base_uri": "https://localhost:8080/"
        },
        "id": "z0dxXVg1yPXu",
        "outputId": "87a05792-7afa-4a10-fb92-1359e2d09cfe"
      },
      "source": [
        "PREDICCION_METRICAS_VS.pred_vs_real(\"/content/drive/MyDrive/PRACTICA II/SEMANA 3/corpus.csv\",pred,9)"
      ],
      "execution_count": null,
      "outputs": [
        {
          "output_type": "stream",
          "text": [
            "El sentimiento predicho es:  0 el sentimiento real es:  1 la opinion real es:   Stuning even for the non-gamer: This sound track was beautiful! It paints the senery in your mind so well I would recomend it even to people who hate video game music! I have played the game Chrono Cross but out of all of the games I have ever played it has the best music! It backs away from crude keyboarding and takes a fresher step with grate guitars and soulful orchestras. It would impress anyone who cares to listen! ^_^\n",
            "El sentimiento predicho es:  0 el sentimiento real es:  1 la opinion real es:   The best soundtrack ever to anything.: I'm reading a lot of reviews saying that this is the best 'game soundtrack' and I figured that I'd write a review to disagree a bit. This in my opinino is Yasunori Mitsuda's ultimate masterpiece. The music is timeless and I'm been listening to it for years now and its beauty simply refuses to fade.The price tag on this is pretty staggering I must say, but if you are going to buy any cd for this much money, this is the only one that I feel would be worth every penny.\n",
            "El sentimiento predicho es:  1 el sentimiento real es:  1 la opinion real es:   Amazing!: This soundtrack is my favorite music of all time, hands down. The intense sadness of \"Prisoners of Fate\" (which means all the more if you've played the game) and the hope in \"A Distant Promise\" and \"Girl who Stole the Star\" have been an important inspiration to me personally throughout my teen years. The higher energy tracks like \"Chrono Cross ~ Time's Scar~\", \"Time of the Dreamwatch\", and \"Chronomantique\" (indefinably remeniscent of Chrono Trigger) are all absolutely superb as well.This soundtrack is amazing music, probably the best of this composer's work (I haven't heard the Xenogears soundtrack, so I can't say for sure), and even if you've never played the game, it would be worth twice the price to buy it.I wish I could give it 6 stars.\n",
            "El sentimiento predicho es:  1 el sentimiento real es:  1 la opinion real es:   Excellent Soundtrack: I truly like this soundtrack and I enjoy video game music. I have played this game and most of the music on here I enjoy and it's truly relaxing and peaceful.On disk one. my favorites are Scars Of Time, Between Life and Death, Forest Of Illusion, Fortress of Ancient Dragons, Lost Fragment, and Drowned Valley.Disk Two: The Draggons, Galdorb - Home, Chronomantique, Prisoners of Fate, Gale, and my girlfriend likes ZelbessDisk Three: The best of the three. Garden Of God, Chronopolis, Fates, Jellyfish sea, Burning Orphange, Dragon's Prayer, Tower Of Stars, Dragon God, and Radical Dreamers - Unstealable Jewel.Overall, this is a excellent soundtrack and should be brought by those that like video game music.Xander Cross\n",
            "El sentimiento predicho es:  1 el sentimiento real es:  1 la opinion real es:   Remember, Pull Your Jaw Off The Floor After Hearing it: If you've played the game, you know how divine the music is! Every single song tells a story of the game, it's that good! The greatest songs are without a doubt, Chrono Cross: Time's Scar, Magical Dreamers: The Wind, The Stars, and the Sea and Radical Dreamers: Unstolen Jewel. (Translation varies) This music is perfect if you ask me, the best it can be. Yasunori Mitsuda just poured his heart on and wrote it down on paper.\n",
            "El sentimiento predicho es:  0 el sentimiento real es:  1 la opinion real es:   an absolute masterpiece: I am quite sure any of you actually taking the time to read this have played the game at least once, and heard at least a few of the tracks here. And whether you were aware of it or not, Mitsuda's music contributed greatly to the mood of every single minute of the whole game.Composed of 3 CDs and quite a few songs (I haven't an exact count), all of which are heart-rendering and impressively remarkable, this soundtrack is one I assure you you will not forget. It has everything for every listener -- from fast-paced and energetic (Dancing the Tokage or Termina Home), to slower and more haunting (Dragon God), to purely beautifully composed (Time's Scar), to even some fantastic vocals (Radical Dreamers).This is one of the best videogame soundtracks out there, and surely Mitsuda's best ever. ^_^\n",
            "El sentimiento predicho es:  0 el sentimiento real es:  0 la opinion real es:   Buyer beware: This is a self-published book, and if you want to know why--read a few paragraphs! Those 5 star reviews must have been written by Ms. Haddon's family and friends--or perhaps, by herself! I can't imagine anyone reading the whole thing--I spent an evening with the book and a friend and we were in hysterics reading bits and pieces of it to one another. It is most definitely bad enough to be entered into some kind of a \"worst book\" contest. I can't believe Amazon even sells this kind of thing. Maybe I can offer them my 8th grade term paper on \"To Kill a Mockingbird\"--a book I am quite sure Ms. Haddon never heard of. Anyway, unless you are in a mood to send a book to someone as a joke---stay far, far away from this one!\n",
            "El sentimiento predicho es:  0 el sentimiento real es:  1 la opinion real es:   Glorious story: I loved Whisper of the wicked saints. The story was amazing and I was pleasantly surprised at the changes in the book. I am not normaly someone who is into romance novels, but the world was raving about this book and so I bought it. I loved it !! This is a brilliant story because it is so true. This book was so wonderful that I have told all of my friends to read it. It is not a typical romance, it is so much more. Not reading this book is a crime, becuase you are missing out on a heart warming story.\n",
            "El sentimiento predicho es:  1 el sentimiento real es:  1 la opinion real es:   A FIVE STAR BOOK: I just finished reading Whisper of the Wicked saints. I fell in love with the caracters. I expected an average romance read, but instead I found one of my favorite books of all time. Just when I thought I could predict the outcome I was shocked ! The writting was so descriptive that my heart broke when Julia's did and I felt as if I was there with them instead of just a distant reader. If you are a lover of romance novels then this is a must read. Don't let the cover fool you this book is spectacular!\n"
          ],
          "name": "stdout"
        }
      ]
    }
  ]
}